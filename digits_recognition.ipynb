{
 "cells": [
  {
   "cell_type": "code",
   "execution_count": 2,
   "id": "e6f6edc7",
   "metadata": {},
   "outputs": [],
   "source": [
    "import pandas as pd\n",
    "import numpy as np\n",
    "import matplotlib.pyplot as plt\n",
    "from sklearn.datasets import load_digits\n",
    "from sklearn.model_selection import train_test_split\n",
    "from sklearn.ensemble import RandomForestClassifier\n",
    "from sklearn.metrics import confusion_matrix, zero_one_loss, mean_squared_error\n",
    "from sklearn.neural_network import MLPClassifier\n",
    "import seaborn as sn"
   ]
  },
  {
   "cell_type": "markdown",
   "id": "42445cb8",
   "metadata": {},
   "source": [
    "## Data"
   ]
  },
  {
   "cell_type": "code",
   "execution_count": 3,
   "id": "2bef24ed",
   "metadata": {},
   "outputs": [],
   "source": [
    "digits = load_digits()"
   ]
  },
  {
   "cell_type": "code",
   "execution_count": 4,
   "id": "41421368",
   "metadata": {},
   "outputs": [
    {
     "name": "stdout",
     "output_type": "stream",
     "text": [
      "There are 1797 images of digits in this dataset\n"
     ]
    },
    {
     "data": {
      "text/plain": [
       "<Figure size 432x288 with 0 Axes>"
      ]
     },
     "metadata": {},
     "output_type": "display_data"
    },
    {
     "data": {
      "image/png": "[encoded data removed]",
      "text/plain": [
       "<Figure size 288x288 with 1 Axes>"
      ]
     },
     "metadata": {
      "needs_background": "light"
     },
     "output_type": "display_data"
    },
    {
     "data": {
      "image/png": "[encoded data removed]",
      "text/plain": [
       "<Figure size 288x288 with 1 Axes>"
      ]
     },
     "metadata": {
      "needs_background": "light"
     },
     "output_type": "display_data"
    },
    {
     "data": {
      "image/png": "[encoded data removed]",
      "text/plain": [
       "<Figure size 288x288 with 1 Axes>"
      ]
     },
     "metadata": {
      "needs_background": "light"
     },
     "output_type": "display_data"
    }
   ],
   "source": [
    "plt.gray()\n",
    "for i in range(700,703):\n",
    "    plt.matshow(digits.images[i])\n",
    "print(\"There are {} images of digits in this dataset\" .format(len(digits.images)))"
   ]
  },
  {
   "cell_type": "code",
   "execution_count": 5,
   "id": "2c4ef0ae",
   "metadata": {},
   "outputs": [
    {
     "data": {
      "text/html": [
       "<div>\n",
       "<style scoped>\n",
       "    .dataframe tbody tr th:only-of-type {\n",
       "        vertical-align: middle;\n",
       "    }\n",
       "\n",
       "    .dataframe tbody tr th {\n",
       "        vertical-align: top;\n",
       "    }\n",
       "\n",
       "    .dataframe thead th {\n",
       "        text-align: right;\n",
       "    }\n",
       "</style>\n",
       "<table border=\"1\" class=\"dataframe\">\n",
       "  <thead>\n",
       "    <tr style=\"text-align: right;\">\n",
       "      <th></th>\n",
       "      <th>0</th>\n",
       "      <th>1</th>\n",
       "      <th>2</th>\n",
       "      <th>3</th>\n",
       "      <th>4</th>\n",
       "      <th>5</th>\n",
       "      <th>6</th>\n",
       "      <th>7</th>\n",
       "      <th>8</th>\n",
       "      <th>9</th>\n",
       "      <th>...</th>\n",
       "      <th>55</th>\n",
       "      <th>56</th>\n",
       "      <th>57</th>\n",
       "      <th>58</th>\n",
       "      <th>59</th>\n",
       "      <th>60</th>\n",
       "      <th>61</th>\n",
       "      <th>62</th>\n",
       "      <th>63</th>\n",
       "      <th>target</th>\n",
       "    </tr>\n",
       "  </thead>\n",
       "  <tbody>\n",
       "    <tr>\n",
       "      <th>0</th>\n",
       "      <td>0.0</td>\n",
       "      <td>0.0</td>\n",
       "      <td>5.0</td>\n",
       "      <td>13.0</td>\n",
       "      <td>9.0</td>\n",
       "      <td>1.0</td>\n",
       "      <td>0.0</td>\n",
       "      <td>0.0</td>\n",
       "      <td>0.0</td>\n",
       "      <td>0.0</td>\n",
       "      <td>...</td>\n",
       "      <td>0.0</td>\n",
       "      <td>0.0</td>\n",
       "      <td>0.0</td>\n",
       "      <td>6.0</td>\n",
       "      <td>13.0</td>\n",
       "      <td>10.0</td>\n",
       "      <td>0.0</td>\n",
       "      <td>0.0</td>\n",
       "      <td>0.0</td>\n",
       "      <td>0</td>\n",
       "    </tr>\n",
       "    <tr>\n",
       "      <th>1</th>\n",
       "      <td>0.0</td>\n",
       "      <td>0.0</td>\n",
       "      <td>0.0</td>\n",
       "      <td>12.0</td>\n",
       "      <td>13.0</td>\n",
       "      <td>5.0</td>\n",
       "      <td>0.0</td>\n",
       "      <td>0.0</td>\n",
       "      <td>0.0</td>\n",
       "      <td>0.0</td>\n",
       "      <td>...</td>\n",
       "      <td>0.0</td>\n",
       "      <td>0.0</td>\n",
       "      <td>0.0</td>\n",
       "      <td>0.0</td>\n",
       "      <td>11.0</td>\n",
       "      <td>16.0</td>\n",
       "      <td>10.0</td>\n",
       "      <td>0.0</td>\n",
       "      <td>0.0</td>\n",
       "      <td>1</td>\n",
       "    </tr>\n",
       "    <tr>\n",
       "      <th>2</th>\n",
       "      <td>0.0</td>\n",
       "      <td>0.0</td>\n",
       "      <td>0.0</td>\n",
       "      <td>4.0</td>\n",
       "      <td>15.0</td>\n",
       "      <td>12.0</td>\n",
       "      <td>0.0</td>\n",
       "      <td>0.0</td>\n",
       "      <td>0.0</td>\n",
       "      <td>0.0</td>\n",
       "      <td>...</td>\n",
       "      <td>0.0</td>\n",
       "      <td>0.0</td>\n",
       "      <td>0.0</td>\n",
       "      <td>0.0</td>\n",
       "      <td>3.0</td>\n",
       "      <td>11.0</td>\n",
       "      <td>16.0</td>\n",
       "      <td>9.0</td>\n",
       "      <td>0.0</td>\n",
       "      <td>2</td>\n",
       "    </tr>\n",
       "    <tr>\n",
       "      <th>3</th>\n",
       "      <td>0.0</td>\n",
       "      <td>0.0</td>\n",
       "      <td>7.0</td>\n",
       "      <td>15.0</td>\n",
       "      <td>13.0</td>\n",
       "      <td>1.0</td>\n",
       "      <td>0.0</td>\n",
       "      <td>0.0</td>\n",
       "      <td>0.0</td>\n",
       "      <td>8.0</td>\n",
       "      <td>...</td>\n",
       "      <td>0.0</td>\n",
       "      <td>0.0</td>\n",
       "      <td>0.0</td>\n",
       "      <td>7.0</td>\n",
       "      <td>13.0</td>\n",
       "      <td>13.0</td>\n",
       "      <td>9.0</td>\n",
       "      <td>0.0</td>\n",
       "      <td>0.0</td>\n",
       "      <td>3</td>\n",
       "    </tr>\n",
       "    <tr>\n",
       "      <th>4</th>\n",
       "      <td>0.0</td>\n",
       "      <td>0.0</td>\n",
       "      <td>0.0</td>\n",
       "      <td>1.0</td>\n",
       "      <td>11.0</td>\n",
       "      <td>0.0</td>\n",
       "      <td>0.0</td>\n",
       "      <td>0.0</td>\n",
       "      <td>0.0</td>\n",
       "      <td>0.0</td>\n",
       "      <td>...</td>\n",
       "      <td>0.0</td>\n",
       "      <td>0.0</td>\n",
       "      <td>0.0</td>\n",
       "      <td>0.0</td>\n",
       "      <td>2.0</td>\n",
       "      <td>16.0</td>\n",
       "      <td>4.0</td>\n",
       "      <td>0.0</td>\n",
       "      <td>0.0</td>\n",
       "      <td>4</td>\n",
       "    </tr>\n",
       "  </tbody>\n",
       "</table>\n",
       "<p>5 rows × 65 columns</p>\n",
       "</div>"
      ],
      "text/plain": [
       "     0    1    2     3     4     5    6    7    8    9  ...   55   56   57  \\\n",
       "0  0.0  0.0  5.0  13.0   9.0   1.0  0.0  0.0  0.0  0.0  ...  0.0  0.0  0.0   \n",
       "1  0.0  0.0  0.0  12.0  13.0   5.0  0.0  0.0  0.0  0.0  ...  0.0  0.0  0.0   \n",
       "2  0.0  0.0  0.0   4.0  15.0  12.0  0.0  0.0  0.0  0.0  ...  0.0  0.0  0.0   \n",
       "3  0.0  0.0  7.0  15.0  13.0   1.0  0.0  0.0  0.0  8.0  ...  0.0  0.0  0.0   \n",
       "4  0.0  0.0  0.0   1.0  11.0   0.0  0.0  0.0  0.0  0.0  ...  0.0  0.0  0.0   \n",
       "\n",
       "    58    59    60    61   62   63  target  \n",
       "0  6.0  13.0  10.0   0.0  0.0  0.0       0  \n",
       "1  0.0  11.0  16.0  10.0  0.0  0.0       1  \n",
       "2  0.0   3.0  11.0  16.0  9.0  0.0       2  \n",
       "3  7.0  13.0  13.0   9.0  0.0  0.0       3  \n",
       "4  0.0   2.0  16.0   4.0  0.0  0.0       4  \n",
       "\n",
       "[5 rows x 65 columns]"
      ]
     },
     "execution_count": 5,
     "metadata": {},
     "output_type": "execute_result"
    }
   ],
   "source": [
    "df = pd.DataFrame(digits.data)\n",
    "df['target'] = digits.target\n",
    "df.head()"
   ]
  },
  {
   "cell_type": "code",
   "execution_count": 6,
   "id": "c48e5bd0",
   "metadata": {},
   "outputs": [
    {
     "name": "stdout",
     "output_type": "stream",
     "text": [
      "We will use 1437 rows to train the model and 360 to test the model.\n"
     ]
    }
   ],
   "source": [
    "x_train, x_test, y_train, y_test = train_test_split(df.drop(df['target'], axis = 'columns'), digits.target, test_size = 0.2)\n",
    "print(\"We will use {} rows to train the model and {} to test the model.\" .format(len(x_train), len(x_test)))"
   ]
  },
  {
   "cell_type": "markdown",
   "id": "55eaebd2",
   "metadata": {},
   "source": [
    "## Prediction with random forest"
   ]
  },
  {
   "cell_type": "markdown",
   "id": "f603c9ab",
   "metadata": {},
   "source": [
    "### Training the model"
   ]
  },
  {
   "cell_type": "code",
   "execution_count": 7,
   "id": "e0afb77c",
   "metadata": {},
   "outputs": [
    {
     "data": {
      "text/plain": [
       "RandomForestClassifier(n_estimators=15)"
      ]
     },
     "execution_count": 7,
     "metadata": {},
     "output_type": "execute_result"
    }
   ],
   "source": [
    "model = RandomForestClassifier(n_estimators = 15)\n",
    "model.fit(x_train, y_train)"
   ]
  },
  {
   "cell_type": "markdown",
   "id": "612d725e",
   "metadata": {},
   "source": [
    "### Testing the model"
   ]
  },
  {
   "cell_type": "code",
   "execution_count": 8,
   "id": "bee75811",
   "metadata": {},
   "outputs": [
    {
     "name": "stdout",
     "output_type": "stream",
     "text": [
      "[[32  0  0  0  0  0  0  0  0  0]\n",
      " [ 0 38  0  0  0  0  0  0  0  0]\n",
      " [ 0  1 36  0  0  0  0  0  0  0]\n",
      " [ 0  0  0 45  0  0  0  0  0  0]\n",
      " [ 0  0  0  0 37  0  0  0  0  0]\n",
      " [ 0  0  0  0  0 32  0  0  0  0]\n",
      " [ 0  0  0  0  0  0 35  0  0  0]\n",
      " [ 0  0  0  0  0  0  0 28  0  0]\n",
      " [ 0  0  0  0  0  0  0  1 32  0]\n",
      " [ 0  0  0  0  0  1  0  0  3 39]]\n"
     ]
    }
   ],
   "source": [
    "y_predicted = model.predict(x_test)\n",
    "cm = confusion_matrix(y_test, y_predicted)\n",
    "print(cm)"
   ]
  },
  {
   "cell_type": "code",
   "execution_count": 9,
   "id": "17cd3815",
   "metadata": {
    "scrolled": true
   },
   "outputs": [
    {
     "data": {
      "text/plain": [
       "Text(69.0, 0.5, 'Truth')"
      ]
     },
     "execution_count": 9,
     "metadata": {},
     "output_type": "execute_result"
    },
    {
     "data": {
      "image/png": "[encoded data removed]",
      "text/plain": [
       "<Figure size 720x504 with 2 Axes>"
      ]
     },
     "metadata": {
      "needs_background": "light"
     },
     "output_type": "display_data"
    }
   ],
   "source": [
    "plt.figure(figsize = (10, 7))\n",
    "sn.heatmap(cm, annot = True)\n",
    "plt.title(\"Confusion matrix\")\n",
    "plt.xlabel(\"Predicted\")\n",
    "plt.ylabel(\"Truth\")"
   ]
  },
  {
   "cell_type": "code",
   "execution_count": 10,
   "id": "fe584dae",
   "metadata": {},
   "outputs": [
    {
     "name": "stdout",
     "output_type": "stream",
     "text": [
      "The error rate is 0.01666666666666672\n",
      "The mean squared error is 0.058333333333333334\n"
     ]
    }
   ],
   "source": [
    "error_rate = zero_one_loss(y_test, y_predicted)\n",
    "print(\"The error rate is {}\" .format(error_rate))\n",
    "MSE = mean_squared_error(y_test, y_predicted)\n",
    "print(\"The mean squared error is {}\" .format(MSE))"
   ]
  },
  {
   "cell_type": "markdown",
   "id": "72eb9f8e",
   "metadata": {},
   "source": [
    "## Prediction with neural network"
   ]
  },
  {
   "cell_type": "markdown",
   "id": "3d5e2b90",
   "metadata": {},
   "source": [
    "### Training model "
   ]
  },
  {
   "cell_type": "code",
   "execution_count": 11,
   "id": "aa22869b",
   "metadata": {},
   "outputs": [
    {
     "name": "stdout",
     "output_type": "stream",
     "text": [
      "Iteration 1, loss = 2.40067296\n",
      "Iteration 2, loss = 2.37354875\n",
      "Iteration 3, loss = 2.33850636\n",
      "Iteration 4, loss = 2.30319088\n",
      "Iteration 5, loss = 2.26982670\n",
      "Iteration 6, loss = 2.23797357\n",
      "Iteration 7, loss = 2.20905817\n",
      "Iteration 8, loss = 2.18230938\n",
      "Iteration 9, loss = 2.15800224\n",
      "Iteration 10, loss = 2.13445522\n",
      "Iteration 11, loss = 2.11183738\n",
      "Iteration 12, loss = 2.09057028\n",
      "Iteration 13, loss = 2.06985248\n",
      "Iteration 14, loss = 2.05036271\n",
      "Iteration 15, loss = 2.03163728\n",
      "Iteration 16, loss = 2.01361863\n",
      "Iteration 17, loss = 1.99604851\n",
      "Iteration 18, loss = 1.97925878\n",
      "Iteration 19, loss = 1.96331852\n",
      "Iteration 20, loss = 1.94827342\n",
      "Iteration 21, loss = 1.93358789\n",
      "Iteration 22, loss = 1.91932724\n",
      "Iteration 23, loss = 1.90511465\n",
      "Iteration 24, loss = 1.89112913\n",
      "Iteration 25, loss = 1.87745951\n",
      "Iteration 26, loss = 1.86397081\n",
      "Iteration 27, loss = 1.85064357\n",
      "Iteration 28, loss = 1.83757351\n",
      "Iteration 29, loss = 1.82467662\n",
      "Iteration 30, loss = 1.81184704\n",
      "Iteration 31, loss = 1.79916568\n",
      "Iteration 32, loss = 1.78663500\n",
      "Iteration 33, loss = 1.77420854\n",
      "Iteration 34, loss = 1.76204370\n",
      "Iteration 35, loss = 1.74976536\n",
      "Iteration 36, loss = 1.73779695\n",
      "Iteration 37, loss = 1.72575823\n",
      "Iteration 38, loss = 1.71379124\n",
      "Iteration 39, loss = 1.70190960\n",
      "Iteration 40, loss = 1.69019648\n",
      "Iteration 41, loss = 1.67864285\n",
      "Iteration 42, loss = 1.66713213\n",
      "Iteration 43, loss = 1.65579982\n",
      "Iteration 44, loss = 1.64467860\n",
      "Iteration 45, loss = 1.63361681\n",
      "Iteration 46, loss = 1.62273225\n",
      "Iteration 47, loss = 1.61174021\n",
      "Iteration 48, loss = 1.60088194\n",
      "Iteration 49, loss = 1.59013375\n",
      "Iteration 50, loss = 1.57966221\n",
      "Iteration 51, loss = 1.56906680\n",
      "Iteration 52, loss = 1.55879014\n",
      "Iteration 53, loss = 1.54825789\n",
      "Iteration 54, loss = 1.53820931\n",
      "Iteration 55, loss = 1.52816199\n",
      "Iteration 56, loss = 1.51797025\n",
      "Iteration 57, loss = 1.50813857\n",
      "Iteration 58, loss = 1.49829759\n",
      "Iteration 59, loss = 1.48851160\n",
      "Iteration 60, loss = 1.47862037\n",
      "Iteration 61, loss = 1.46893224\n",
      "Iteration 62, loss = 1.45935273\n",
      "Iteration 63, loss = 1.44958275\n",
      "Iteration 64, loss = 1.43975634\n",
      "Iteration 65, loss = 1.43018662\n",
      "Iteration 66, loss = 1.42031918\n",
      "Iteration 67, loss = 1.41058896\n",
      "Iteration 68, loss = 1.40077920\n",
      "Iteration 69, loss = 1.39102015\n",
      "Iteration 70, loss = 1.38141535\n",
      "Iteration 71, loss = 1.37187491\n",
      "Iteration 72, loss = 1.36265027\n",
      "Iteration 73, loss = 1.35361783\n",
      "Iteration 74, loss = 1.34463260\n",
      "Iteration 75, loss = 1.33573663\n",
      "Iteration 76, loss = 1.32699070\n",
      "Iteration 77, loss = 1.31834558\n",
      "Iteration 78, loss = 1.30963718\n",
      "Iteration 79, loss = 1.30114250\n",
      "Iteration 80, loss = 1.29265842\n",
      "Iteration 81, loss = 1.28424943\n",
      "Iteration 82, loss = 1.27592272\n",
      "Iteration 83, loss = 1.26765755\n",
      "Iteration 84, loss = 1.25942532\n",
      "Iteration 85, loss = 1.25133753\n",
      "Iteration 86, loss = 1.24339834\n",
      "Iteration 87, loss = 1.23554894\n",
      "Iteration 88, loss = 1.22754522\n",
      "Iteration 89, loss = 1.21974181\n",
      "Iteration 90, loss = 1.21197429\n",
      "Iteration 91, loss = 1.20431717\n",
      "Iteration 92, loss = 1.19677408\n",
      "Iteration 93, loss = 1.18918238\n",
      "Iteration 94, loss = 1.18166767\n",
      "Iteration 95, loss = 1.17432412\n",
      "Iteration 96, loss = 1.16687652\n",
      "Iteration 97, loss = 1.15956025\n",
      "Iteration 98, loss = 1.15222595\n",
      "Iteration 99, loss = 1.14498876\n",
      "Iteration 100, loss = 1.13784812\n",
      "Iteration 101, loss = 1.13081436\n",
      "Iteration 102, loss = 1.12378923\n",
      "Iteration 103, loss = 1.11688509\n",
      "Iteration 104, loss = 1.10989989\n",
      "Iteration 105, loss = 1.10311610\n",
      "Iteration 106, loss = 1.09628520\n",
      "Iteration 107, loss = 1.08951639\n",
      "Iteration 108, loss = 1.08274131\n",
      "Iteration 109, loss = 1.07603405\n",
      "Iteration 110, loss = 1.06944236\n",
      "Iteration 111, loss = 1.06292570\n",
      "Iteration 112, loss = 1.05633189\n",
      "Iteration 113, loss = 1.04999464\n",
      "Iteration 114, loss = 1.04343955\n",
      "Iteration 115, loss = 1.03707272\n",
      "Iteration 116, loss = 1.03079120\n",
      "Iteration 117, loss = 1.02448566\n",
      "Iteration 118, loss = 1.01826562\n",
      "Iteration 119, loss = 1.01209148\n",
      "Iteration 120, loss = 1.00601660\n",
      "Iteration 121, loss = 0.99998404\n",
      "Iteration 122, loss = 0.99395165\n",
      "Iteration 123, loss = 0.98801662\n",
      "Iteration 124, loss = 0.98211414\n",
      "Iteration 125, loss = 0.97626793\n",
      "Iteration 126, loss = 0.97050343\n",
      "Iteration 127, loss = 0.96474223\n",
      "Iteration 128, loss = 0.95903829\n",
      "Iteration 129, loss = 0.95333527\n",
      "Iteration 130, loss = 0.94775586\n",
      "Iteration 131, loss = 0.94217125\n",
      "Iteration 132, loss = 0.93660571\n",
      "Iteration 133, loss = 0.93113780\n",
      "Iteration 134, loss = 0.92571170\n",
      "Iteration 135, loss = 0.92040812\n",
      "Iteration 136, loss = 0.91510312\n",
      "Iteration 137, loss = 0.90977712\n",
      "Iteration 138, loss = 0.90442581\n",
      "Iteration 139, loss = 0.89920704\n",
      "Iteration 140, loss = 0.89418596\n",
      "Iteration 141, loss = 0.88898946\n",
      "Iteration 142, loss = 0.88389253\n",
      "Iteration 143, loss = 0.87877502\n",
      "Iteration 144, loss = 0.87381354\n",
      "Iteration 145, loss = 0.86889758\n",
      "Iteration 146, loss = 0.86406750\n",
      "Iteration 147, loss = 0.85906308\n",
      "Iteration 148, loss = 0.85421355\n",
      "Iteration 149, loss = 0.84943761\n",
      "Iteration 150, loss = 0.84464000\n",
      "Iteration 151, loss = 0.83995145\n",
      "Iteration 152, loss = 0.83534688\n",
      "Iteration 153, loss = 0.83063986\n",
      "Iteration 154, loss = 0.82605580\n",
      "Iteration 155, loss = 0.82140448\n",
      "Iteration 156, loss = 0.81698128\n",
      "Iteration 157, loss = 0.81244339\n",
      "Iteration 158, loss = 0.80803075\n",
      "Iteration 159, loss = 0.80364163\n",
      "Iteration 160, loss = 0.79920384\n",
      "Iteration 161, loss = 0.79488611\n",
      "Iteration 162, loss = 0.79059265\n",
      "Iteration 163, loss = 0.78638228\n",
      "Iteration 164, loss = 0.78218570\n",
      "Iteration 165, loss = 0.77794349\n",
      "Iteration 166, loss = 0.77393415\n",
      "Iteration 167, loss = 0.76968448\n",
      "Iteration 168, loss = 0.76564869\n",
      "Iteration 169, loss = 0.76157145\n",
      "Iteration 170, loss = 0.75762284\n",
      "Iteration 171, loss = 0.75354726\n",
      "Iteration 172, loss = 0.74959642\n",
      "Iteration 173, loss = 0.74574792\n",
      "Iteration 174, loss = 0.74185535\n",
      "Iteration 175, loss = 0.73802311\n",
      "Iteration 176, loss = 0.73430779\n",
      "Iteration 177, loss = 0.73051251\n",
      "Iteration 178, loss = 0.72669825\n",
      "Iteration 179, loss = 0.72284966\n",
      "Iteration 180, loss = 0.71918420\n",
      "Iteration 181, loss = 0.71561725\n",
      "Iteration 182, loss = 0.71189674\n",
      "Iteration 183, loss = 0.70828698\n",
      "Iteration 184, loss = 0.70465807\n",
      "Iteration 185, loss = 0.70109361\n",
      "Iteration 186, loss = 0.69762824\n",
      "Iteration 187, loss = 0.69416667\n",
      "Iteration 188, loss = 0.69074199\n",
      "Iteration 189, loss = 0.68735185\n",
      "Iteration 190, loss = 0.68392376\n",
      "Iteration 191, loss = 0.68054139\n",
      "Iteration 192, loss = 0.67712011\n",
      "Iteration 193, loss = 0.67378029\n",
      "Iteration 194, loss = 0.67043532\n",
      "Iteration 195, loss = 0.66717260\n",
      "Iteration 196, loss = 0.66389027\n",
      "Iteration 197, loss = 0.66063116\n",
      "Iteration 198, loss = 0.65743776\n",
      "Iteration 199, loss = 0.65434515\n",
      "Iteration 200, loss = 0.65115679\n"
     ]
    },
    {
     "name": "stderr",
     "output_type": "stream",
     "text": [
      "/home/cytech/anaconda3/lib/python3.9/site-packages/sklearn/neural_network/_multilayer_perceptron.py:614: ConvergenceWarning: Stochastic Optimizer: Maximum iterations (200) reached and the optimization hasn't converged yet.\n",
      "  warnings.warn(\n"
     ]
    },
    {
     "data": {
      "text/plain": [
       "MLPClassifier(activation='logistic', hidden_layer_sizes=20, solver='sgd',\n",
       "              verbose=True)"
      ]
     },
     "execution_count": 11,
     "metadata": {},
     "output_type": "execute_result"
    }
   ],
   "source": [
    "model = MLPClassifier(hidden_layer_sizes = 20, activation = \"logistic\", solver = \"sgd\", verbose = True)\n",
    "model.fit(x_train, y_train)"
   ]
  },
  {
   "cell_type": "markdown",
   "id": "1306c936",
   "metadata": {},
   "source": [
    "### Testing model"
   ]
  },
  {
   "cell_type": "code",
   "execution_count": 12,
   "id": "f4c61f36",
   "metadata": {},
   "outputs": [
    {
     "name": "stdout",
     "output_type": "stream",
     "text": [
      "[[32  0  0  0  0  0  0  0  0  0]\n",
      " [ 0 33  0  3  0  0  1  0  0  1]\n",
      " [ 0  0 37  0  0  0  0  0  0  0]\n",
      " [ 0  0  1 42  0  0  0  1  1  0]\n",
      " [ 0  0  0  0 37  0  0  0  0  0]\n",
      " [ 0  1  0  0  0 31  0  0  0  0]\n",
      " [ 0  1  0  0  0  0 34  0  0  0]\n",
      " [ 0  0  0  0  0  2  0 25  0  1]\n",
      " [ 0  1  0  0  0  0  0  2 29  1]\n",
      " [ 0  0  0  2  0  2  0  0  5 34]]\n"
     ]
    }
   ],
   "source": [
    "y_predicted = model.predict(x_test)\n",
    "cm = confusion_matrix(y_test, y_predicted)\n",
    "print(cm)"
   ]
  },
  {
   "cell_type": "code",
   "execution_count": 14,
   "id": "ef15dbce",
   "metadata": {},
   "outputs": [
    {
     "data": {
      "text/plain": [
       "Text(69.0, 0.5, 'Truth')"
      ]
     },
     "execution_count": 14,
     "metadata": {},
     "output_type": "execute_result"
    },
    {
     "data": {
      "image/png": "[encoded data removed]",
      "text/plain": [
       "<Figure size 720x504 with 2 Axes>"
      ]
     },
     "metadata": {
      "needs_background": "light"
     },
     "output_type": "display_data"
    }
   ],
   "source": [
    "plt.figure(figsize = (10, 7))\n",
    "sn.heatmap(cm, annot = True)\n",
    "plt.title(\"Vizualisation of confusion matrix\")\n",
    "plt.xlabel(\"Predicted\")\n",
    "plt.ylabel(\"Truth\")"
   ]
  },
  {
   "cell_type": "code",
   "execution_count": 15,
   "id": "f009abfe",
   "metadata": {},
   "outputs": [
    {
     "name": "stdout",
     "output_type": "stream",
     "text": [
      "The error rate is 0.07222222222222219\n",
      "The mean squared error is 0.9916666666666667\n"
     ]
    }
   ],
   "source": [
    "error_rate = zero_one_loss(y_test, y_predicted)\n",
    "print(\"The error rate is {}\" .format(error_rate))\n",
    "MSE = mean_squared_error(y_test, y_predicted)\n",
    "print(\"The mean squared error is {}\" .format(MSE))"
   ]
  }
 ],
 "metadata": {
  "kernelspec": {
   "display_name": "Python 3 (ipykernel)",
   "language": "python",
   "name": "python3"
  },
  "language_info": {
   "codemirror_mode": {
    "name": "ipython",
    "version": 3
   },
   "file_extension": ".py",
   "mimetype": "text/x-python",
   "name": "python",
   "nbconvert_exporter": "python",
   "pygments_lexer": "ipython3",
   "version": "3.9.7"
  }
 },
 "nbformat": 4,
 "nbformat_minor": 5
}
